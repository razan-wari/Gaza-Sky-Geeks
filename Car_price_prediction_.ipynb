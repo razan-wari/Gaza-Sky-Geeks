{
  "nbformat": 4,
  "nbformat_minor": 0,
  "metadata": {
    "colab": {
      "provenance": [],
      "authorship_tag": "ABX9TyMic7SegsuH00Bj4mvnlNb1",
      "include_colab_link": true
    },
    "kernelspec": {
      "name": "python3",
      "display_name": "Python 3"
    },
    "language_info": {
      "name": "python"
    }
  },
  "cells": [
    {
      "cell_type": "markdown",
      "metadata": {
        "id": "view-in-github",
        "colab_type": "text"
      },
      "source": [
        "<a href=\"https://colab.research.google.com/github/razan-wari/Gaza-Sky-Geeks/blob/main/Car_price_prediction_.ipynb\" target=\"_parent\"><img src=\"https://colab.research.google.com/assets/colab-badge.svg\" alt=\"Open In Colab\"/></a>"
      ]
    },
    {
      "cell_type": "code",
      "execution_count": 13,
      "metadata": {
        "colab": {
          "base_uri": "https://localhost:8080/"
        },
        "id": "R0wy7tktCgZ2",
        "outputId": "d5b2750e-4c73-4c7a-a0d0-ad80d31e26e4"
      },
      "outputs": [
        {
          "output_type": "stream",
          "name": "stdout",
          "text": [
            "0      alfa-romero\n",
            "1      alfa-romero\n",
            "2      alfa-romero\n",
            "3             audi\n",
            "4             audi\n",
            "          ...     \n",
            "200          volvo\n",
            "201          volvo\n",
            "202          volvo\n",
            "203          volvo\n",
            "204          volvo\n",
            "Name: CarName, Length: 205, dtype: object\n"
          ]
        }
      ],
      "source": [
        "\n",
        "import warnings\n",
        "warnings.filterwarnings('ignore')\n",
        "\n",
        "#importing the libraries\n",
        "import numpy as np\n",
        "import pandas as pd\n",
        "import matplotlib.pyplot as plt\n",
        "import seaborn as sns\n",
        "cars = pd.read_csv('/content/CarPrice_Assignment.csv')\n",
        "\n",
        "CompanyName = cars['CarName'].apply(lambda x : x.split(' ')[0])\n",
        "#cars.insert(3,\"CompanyName\",CompanyName)\n",
        "#cars.drop(['CarName'],axis=1,inplace=True)\n",
        "#cars.head()\n",
        "#cars.CarName.unique()\n",
        "print (CompanyName)"
      ]
    }
  ]
}