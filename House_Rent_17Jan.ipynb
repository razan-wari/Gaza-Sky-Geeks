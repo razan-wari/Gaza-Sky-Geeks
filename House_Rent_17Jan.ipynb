{
  "nbformat": 4,
  "nbformat_minor": 0,
  "metadata": {
    "colab": {
      "provenance": [],
      "authorship_tag": "ABX9TyMxwi1KudCsHnyq+8UZDhVA",
      "include_colab_link": true
    },
    "kernelspec": {
      "name": "python3",
      "display_name": "Python 3"
    },
    "language_info": {
      "name": "python"
    }
  },
  "cells": [
    {
      "cell_type": "markdown",
      "metadata": {
        "id": "view-in-github",
        "colab_type": "text"
      },
      "source": [
        "<a href=\"https://colab.research.google.com/github/razan-wari/Gaza-Sky-Geeks/blob/main/House_Rent_17Jan.ipynb\" target=\"_parent\"><img src=\"https://colab.research.google.com/assets/colab-badge.svg\" alt=\"Open In Colab\"/></a>"
      ]
    },
    {
      "cell_type": "code",
      "execution_count": 39,
      "metadata": {
        "id": "DCHLanSRjQJB"
      },
      "outputs": [],
      "source": [
        "import matplotlib.pyplot as plt\n",
        "import pandas as pd\n",
        "import seaborn as sns\n",
        "import numpy as np\n"
      ]
    },
    {
      "cell_type": "code",
      "source": [
        "dataset = pd.read_csv('/content/House Rent.csv')\n",
        "dataset.head()\n"
      ],
      "metadata": {
        "id": "u8jyui-WvStt"
      },
      "execution_count": null,
      "outputs": []
    },
    {
      "cell_type": "code",
      "source": [
        "train_dataset = dataset.sample(frac=0.8,random_state=0)\n",
        "test_dataset = dataset.drop(train_dataset.index)"
      ],
      "metadata": {
        "id": "8B9QWlo7vavi"
      },
      "execution_count": null,
      "outputs": []
    },
    {
      "cell_type": "code",
      "source": [
        "\n",
        "sns.pairplot(train_dataset[[\"Size\", \"Rent\", \"BHK\", \"Bathroom\"]], diag_kind=\"kde\")"
      ],
      "metadata": {
        "id": "i6oWDkDqvw5r"
      },
      "execution_count": null,
      "outputs": []
    },
    {
      "cell_type": "code",
      "source": [
        "train_stats = train_dataset.describe()\n",
        "\n",
        "train_stats = train_stats.transpose()\n",
        "train_stats"
      ],
      "metadata": {
        "id": "seliTUnQwIOl"
      },
      "execution_count": null,
      "outputs": []
    },
    {
      "cell_type": "code",
      "source": [
        "x = dataset['BHK']\n",
        "\n",
        "y = dataset['Size']\n",
        "\n",
        "plt.xlabel('BHK')\n",
        "\n",
        "plt.ylabel('Size')\n",
        "\n",
        "plt.title('Line Plots')\n",
        "plt.bar( x, y )"
      ],
      "metadata": {
        "id": "VoI4T5p2wUGK"
      },
      "execution_count": null,
      "outputs": []
    },
    {
      "cell_type": "code",
      "source": [
        "x = dataset['BHK']\n",
        "\n",
        "y = dataset['Rent']\n",
        "\n",
        "plt.xlabel('BHK')\n",
        "\n",
        "plt.ylabel('Rent')\n",
        "\n",
        "plt.title('Line Plots')\n",
        "plt.bar( x, y )"
      ],
      "metadata": {
        "id": "AjUqZP8iwqyd"
      },
      "execution_count": null,
      "outputs": []
    },
    {
      "cell_type": "code",
      "source": [
        "x = dataset['Bathroom']\n",
        "\n",
        "y = dataset['Size']\n",
        "\n",
        "plt.xlabel('Bathroom')\n",
        "\n",
        "plt.ylabel('Size')\n",
        "\n",
        "plt.title('Line Plots')\n",
        "plt.bar( x, y )"
      ],
      "metadata": {
        "id": "OX6MDYpCwemi"
      },
      "execution_count": null,
      "outputs": []
    },
    {
      "cell_type": "code",
      "source": [
        "plt.scatter(dataset[\"Size\"], dataset[\"Rent\"])\n",
        "plt.xlabel(\"Size\")\n",
        "plt.ylabel(\"Rent\")\n",
        "plt.title(\"SIZE vs. Rent\")\n",
        "plt.show()\n"
      ],
      "metadata": {
        "id": "XXqX-cPvxbjP"
      },
      "execution_count": null,
      "outputs": []
    },
    {
      "cell_type": "code",
      "source": [
        "sns.violinplot(x=\"Bathroom\", y=\"Size\", data=dataset)\n",
        "\n",
        "\n",
        "plt.title(\"Size of the House by the Number of Bathrooms\")\n",
        "\n",
        "\n",
        "plt.show()"
      ],
      "metadata": {
        "id": "yUA09ew3xoTw"
      },
      "execution_count": null,
      "outputs": []
    },
    {
      "cell_type": "code",
      "source": [
        "sns.violinplot(x=\"BHK\", y=\"Size\", data=dataset)\n",
        "\n",
        "\n",
        "plt.title(\"Size of the House by the Number of Bedrooms, Hall, Kitchen\")\n",
        "\n",
        "\n",
        "plt.show()"
      ],
      "metadata": {
        "id": "AQsKs_7zxtIp"
      },
      "execution_count": null,
      "outputs": []
    },
    {
      "cell_type": "code",
      "source": [
        "\n",
        "sns.lineplot(x=\"Posted On\", y=\"Rent\", data=dataset)\n",
        "\n",
        "\n",
        "plt.title(\"Rent over Time\")\n",
        "plt.show()"
      ],
      "metadata": {
        "id": "vMIhzqNvyIr2"
      },
      "execution_count": null,
      "outputs": []
    },
    {
      "cell_type": "code",
      "source": [
        "from sklearn.linear_model import LinearRegression\n",
        "from sklearn.metrics import mean_squared_error, r2_score\n",
        "\n",
        "\n",
        "\n",
        "# Define the input and output variables\n",
        "X = dataset[[\"Rent\", \"Size\"]]\n",
        "y = dataset[\"BHK\"]\n",
        "\n",
        "# Split the data into training and test sets\n",
        "from sklearn.model_selection import train_test_split\n",
        "X_train, X_test, y_train, y_test = train_test_split(X, y, test_size=0.2, random_state=42)\n",
        "\n",
        "# Create a linear regression model\n",
        "model = LinearRegression()\n",
        "\n",
        "# Train the model using the training data\n",
        "model.fit(X_train, y_train)\n",
        "\n",
        "# Make predictions using the test data\n",
        "y_pred = model.predict(X_test)\n",
        "\n",
        "# Evaluate the model\n",
        "mse = mean_squared_error(y_test, y_pred)\n",
        "r2 = r2_score(y_test, y_pred)\n",
        "print(\"Mean Squared Error:\", mse)\n",
        "print(\"R-squared:\", r2)"
      ],
      "metadata": {
        "id": "DUiS9z4Py0oZ"
      },
      "execution_count": null,
      "outputs": []
    },
    {
      "cell_type": "code",
      "source": [
        "from sklearn.neighbors import KNeighborsRegressor\n",
        "\n",
        "\n",
        "\n",
        "# Define the input and output variables\n",
        "X = dataset[[\"Size\", \"Rent\"]]\n",
        "y = dataset[\"BHK\"]\n",
        "\n",
        "# Split the data into training and test sets\n",
        "X_train, X_test, y_train, y_test = train_test_split(X, y, test_size=0.2, random_state=42)\n",
        "\n",
        "# Create a KNN model\n",
        "knn = KNeighborsRegressor(n_neighbors=5)\n",
        "\n",
        "# Train the model using the training data\n",
        "knn.fit(X_train, y_train)\n",
        "\n",
        "# Make predictions using the test data\n",
        "y_pred = knn.predict(X_test)\n",
        "\n",
        "# Evaluate the model\n",
        "mse = mean_squared_error(y_test, y_pred)\n",
        "r2 = r2_score(y_test, y_pred)\n",
        "print(\"Mean Squared Error:\", mse)\n",
        "print(\"R-squared:\", r2)"
      ],
      "metadata": {
        "id": "HnT0SLzSzCQB"
      },
      "execution_count": null,
      "outputs": []
    }
  ]
}