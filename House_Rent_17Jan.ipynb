{
  "nbformat": 4,
  "nbformat_minor": 0,
  "metadata": {
    "colab": {
      "provenance": [],
      "authorship_tag": "ABX9TyOcNgvfaOejRX+B9NtwZZNb",
      "include_colab_link": true
    },
    "kernelspec": {
      "name": "python3",
      "display_name": "Python 3"
    },
    "language_info": {
      "name": "python"
    }
  },
  "cells": [
    {
      "cell_type": "markdown",
      "metadata": {
        "id": "view-in-github",
        "colab_type": "text"
      },
      "source": [
        "<a href=\"https://colab.research.google.com/github/razan-wari/Gaza-Sky-Geeks/blob/main/House_Rent_17Jan.ipynb\" target=\"_parent\"><img src=\"https://colab.research.google.com/assets/colab-badge.svg\" alt=\"Open In Colab\"/></a>"
      ]
    },
    {
      "cell_type": "code",
      "execution_count": 8,
      "metadata": {
        "id": "DCHLanSRjQJB"
      },
      "outputs": [],
      "source": [
        "import matplotlib.pyplot as plt\n",
        "import pandas as pd\n",
        "import seaborn as sns\n",
        "import numpy as np\n",
        "dataset = pd.read_csv('/content/House Rent.csv')\n",
        "dataset.head()\n",
        "train_dataset = dataset.sample(frac=0.8,random_state=0)\n",
        "test_dataset = dataset.drop(train_dataset.index)\n",
        "sns.pairplot(train_dataset[[\"Size\", \"Rent\", \"BHK\", \"Bathroom\"]], diag_kind=\"kde\")\n",
        "train_stats = train_dataset.describe()\n",
        "\n",
        "train_stats = train_stats.transpose()\n",
        "train_stats\n",
        "x = dataset['BHK']\n",
        "\n",
        "y = dataset['Size']\n",
        "\n",
        "plt.xlabel('BHK')\n",
        "\n",
        "plt.ylabel('Size')\n",
        "\n",
        "plt.title('Line Plots')\n",
        "\n",
        "\n",
        "\n",
        "plt.bar( x, y )\n",
        "\n"
      ]
    }
  ]
}