{
  "nbformat": 4,
  "nbformat_minor": 0,
  "metadata": {
    "colab": {
      "provenance": [],
      "authorship_tag": "ABX9TyMUoVSftNrOpWQUvzSFoDBw",
      "include_colab_link": true
    },
    "kernelspec": {
      "name": "python3",
      "display_name": "Python 3"
    },
    "language_info": {
      "name": "python"
    }
  },
  "cells": [
    {
      "cell_type": "markdown",
      "metadata": {
        "id": "view-in-github",
        "colab_type": "text"
      },
      "source": [
        "<a href=\"https://colab.research.google.com/github/razan-wari/Gaza-Sky-Geeks/blob/main/Fraud_Dediction_.ipynb\" target=\"_parent\"><img src=\"https://colab.research.google.com/assets/colab-badge.svg\" alt=\"Open In Colab\"/></a>"
      ]
    },
    {
      "cell_type": "code",
      "execution_count": 12,
      "metadata": {
        "colab": {
          "base_uri": "https://localhost:8080/"
        },
        "id": "CVJhYqt2_PpA",
        "outputId": "9800d244-d935-4f11-c8c7-907f17647569"
      },
      "outputs": [
        {
          "output_type": "stream",
          "name": "stdout",
          "text": [
            "<class 'pandas.core.frame.DataFrame'>\n",
            "RangeIndex: 10000 entries, 0 to 9999\n",
            "Data columns (total 6 columns):\n",
            " #   Column              Non-Null Count  Dtype \n",
            "---  ------              --------------  ----- \n",
            " 0   Profession          10000 non-null  object\n",
            " 1   Income              10000 non-null  int64 \n",
            " 2   Credit_card_number  10000 non-null  int64 \n",
            " 3   Expiry              10000 non-null  object\n",
            " 4   Security_code       10000 non-null  int64 \n",
            " 5   Fraud               10000 non-null  int64 \n",
            "dtypes: int64(4), object(2)\n",
            "memory usage: 468.9+ KB\n",
            "      Income   Credit_card_number Expiry  Security_code  Fraud\n",
            "0      42509     3515418493460774  07/25            251      1\n",
            "1      80334      213134223583196  05/32            858      1\n",
            "2      91552     4869615013764888  03/30            755      1\n",
            "3      43623      341063356109385  01/29            160      1\n",
            "4      22962  4707418777543978402  11/30            102      0\n",
            "...      ...                  ...    ...            ...    ...\n",
            "9995    2705         502092127427  09/27            422      1\n",
            "9996   37862      349490624391408  07/34            811      0\n",
            "9997   83152     4990903961714432  11/24            216      1\n",
            "9998   90620     4827611166572112  01/33            180      1\n",
            "9999   94529     4906715586330631  12/29            399      1\n",
            "\n",
            "[10000 rows x 5 columns]\n",
            "0         DOCTOR\n",
            "1         DOCTOR\n",
            "2         LAWYER\n",
            "3         LAWYER\n",
            "4         DOCTOR\n",
            "          ...   \n",
            "9995      DOCTOR\n",
            "9996      LAWYER\n",
            "9997    ENGINEER\n",
            "9998      DOCTOR\n",
            "9999      LAWYER\n",
            "Name: Profession, Length: 10000, dtype: object\n"
          ]
        }
      ],
      "source": [
        "#importing the libraries\n",
        "import numpy as np\n",
        "import matplotlib.pyplot as plt\n",
        "import pandas as pd\n",
        "import matplotlib.pyplot as plt\n",
        "import seaborn as sns\n",
        "fraud_dediction = pd.read_csv('/content/data2.csv')\n",
        "fraud_dediction.head(10002)\n",
        "fraud_dediction.info()\n",
        "fraud_dediction.isnull().sum()\n",
        "x = fraud_dediction.drop(columns='Profession', axis=1)\n",
        "y = fraud_dediction['Profession']\n",
        "print(x)\n",
        "print(y)\n",
        "from sklearn.model_selection import train_test_split\n",
        "x_train, x_test, y_train, y_test = train_test_split(x, y, test_size=0.2, stratify=y, random_state=2)\n"
      ]
    },
    {
      "cell_type": "code",
      "source": [],
      "metadata": {
        "id": "3-nKKip6AiTP"
      },
      "execution_count": null,
      "outputs": []
    }
  ]
}