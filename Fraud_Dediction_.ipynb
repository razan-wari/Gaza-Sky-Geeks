{
  "nbformat": 4,
  "nbformat_minor": 0,
  "metadata": {
    "colab": {
      "provenance": [],
      "authorship_tag": "ABX9TyMYy2DwPSkebfQdrR6wbFDH",
      "include_colab_link": true
    },
    "kernelspec": {
      "name": "python3",
      "display_name": "Python 3"
    },
    "language_info": {
      "name": "python"
    }
  },
  "cells": [
    {
      "cell_type": "markdown",
      "metadata": {
        "id": "view-in-github",
        "colab_type": "text"
      },
      "source": [
        "<a href=\"https://colab.research.google.com/github/razan-wari/Gaza-Sky-Geeks/blob/main/Fraud_Dediction_.ipynb\" target=\"_parent\"><img src=\"https://colab.research.google.com/assets/colab-badge.svg\" alt=\"Open In Colab\"/></a>"
      ]
    },
    {
      "cell_type": "code",
      "execution_count": 7,
      "metadata": {
        "colab": {
          "base_uri": "https://localhost:8080/"
        },
        "id": "CVJhYqt2_PpA",
        "outputId": "beb10b14-a521-461b-ed2b-7715be707eaf"
      },
      "outputs": [
        {
          "output_type": "stream",
          "name": "stdout",
          "text": [
            "<class 'pandas.core.frame.DataFrame'>\n",
            "RangeIndex: 10000 entries, 0 to 9999\n",
            "Data columns (total 6 columns):\n",
            " #   Column              Non-Null Count  Dtype \n",
            "---  ------              --------------  ----- \n",
            " 0   Profession          10000 non-null  object\n",
            " 1   Income              10000 non-null  int64 \n",
            " 2   Credit_card_number  10000 non-null  int64 \n",
            " 3   Expiry              10000 non-null  object\n",
            " 4   Security_code       10000 non-null  int64 \n",
            " 5   Fraud               10000 non-null  int64 \n",
            "dtypes: int64(4), object(2)\n",
            "memory usage: 468.9+ KB\n"
          ]
        }
      ],
      "source": [
        "#importing the libraries\n",
        "import numpy as np\n",
        "import matplotlib.pyplot as plt\n",
        "import pandas as pd\n",
        "import matplotlib.pyplot as plt\n",
        "import seaborn as sns\n",
        "fraud_dediction = pd.read_csv('/content/data2.csv')\n",
        "fraud_dediction.head(10002)\n",
        "fraud_dediction.info()"
      ]
    },
    {
      "cell_type": "code",
      "source": [],
      "metadata": {
        "id": "3-nKKip6AiTP"
      },
      "execution_count": null,
      "outputs": []
    }
  ]
}